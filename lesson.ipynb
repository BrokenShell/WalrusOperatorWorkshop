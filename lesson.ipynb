{
 "cells": [
  {
   "cell_type": "markdown",
   "source": [
    "# Labs Data Science Workshop: Walrus Operator\n",
    "\n",
    "## Workshop Outline\n",
    "1. Introduction & Motivation\n",
    "2. Performance & Efficiency"
   ],
   "metadata": {
    "collapsed": false,
    "pycharm": {
     "name": "#%% md\n"
    }
   }
  },
  {
   "cell_type": "markdown",
   "source": [
    "## Step 1 - Introduction & Motivation\n",
    "\n",
    "It's important to stay on top of recent developments in Data Science and Python. The walrus operator was introduced in Python 3.8. and with it, a huge controversy that caused the inventor of Python to resign his position as BDFL (benevolent dictator for life). In today's workshop we'll explore how to use the walrus operator and the controversy it caused."
   ],
   "metadata": {
    "collapsed": false,
    "pycharm": {
     "name": "#%% md\n"
    }
   }
  },
  {
   "cell_type": "markdown",
   "source": [
    "## Walrus Operator\n",
    "\n",
    "The Walrus Operator allows us to reuse the result of an expression with a flexible and elegant syntax that would otherwise require computing the same expression over and over, or worse - to refactor our code to a more primitive style."
   ],
   "metadata": {
    "collapsed": false,
    "pycharm": {
     "name": "#%% md\n"
    }
   }
  },
  {
   "cell_type": "markdown",
   "source": [
    "### Equals Operator\n",
    "This example sets the variable `a` to the value 1, but it doesn't return anything. Notice nothing is printed from executing this cell."
   ],
   "metadata": {
    "collapsed": false,
    "pycharm": {
     "name": "#%% md\n"
    }
   }
  },
  {
   "cell_type": "code",
   "execution_count": 26,
   "outputs": [],
   "source": [
    "a = 1"
   ],
   "metadata": {
    "collapsed": false,
    "pycharm": {
     "name": "#%%\n"
    }
   }
  },
  {
   "cell_type": "markdown",
   "source": [
    "### Walrus Operator\n",
    "This example sets `b` to the value 1 and returns the value. Notice 1 is printed from executing this cell. That's it, that is the entire difference between equals and the walrus. The parentheses are required if and only if the resulting code would otherwise be invalid syntax."
   ],
   "metadata": {
    "collapsed": false,
    "pycharm": {
     "name": "#%% md\n"
    }
   }
  },
  {
   "cell_type": "code",
   "execution_count": 35,
   "outputs": [
    {
     "data": {
      "text/plain": "1"
     },
     "execution_count": 35,
     "metadata": {},
     "output_type": "execute_result"
    }
   ],
   "source": [
    "(b := 1)"
   ],
   "metadata": {
    "collapsed": false,
    "pycharm": {
     "name": "#%%\n"
    }
   }
  },
  {
   "cell_type": "markdown",
   "source": [
    "## Performance Comparison `y := f(x)`"
   ],
   "metadata": {
    "collapsed": false,
    "pycharm": {
     "name": "#%% md\n"
    }
   }
  },
  {
   "cell_type": "code",
   "execution_count": 28,
   "outputs": [],
   "source": [
    "from time import sleep\n",
    "from math import atan"
   ],
   "metadata": {
    "collapsed": false,
    "pycharm": {
     "name": "#%%\n"
    }
   }
  },
  {
   "cell_type": "markdown",
   "source": [
    "Here's an example function that takes about 1 second to compute. This function is not special in terms of how to use the walrus operator. The sleep call was added to exaggerate the performance difference between using the walrus operator or not."
   ],
   "metadata": {
    "collapsed": false,
    "pycharm": {
     "name": "#%% md\n"
    }
   }
  },
  {
   "cell_type": "code",
   "execution_count": 29,
   "outputs": [],
   "source": [
    "def f(x: float) -> float:\n",
    "    sleep(1)\n",
    "    return x * atan(1)"
   ],
   "metadata": {
    "collapsed": false,
    "pycharm": {
     "name": "#%%\n"
    }
   }
  },
  {
   "cell_type": "markdown",
   "source": [
    "### Baseline\n",
    "\n",
    "Below is our baseline, it calculates f(x) for a given range of x. In total it does this calculation once for each value of x."
   ],
   "metadata": {
    "collapsed": false,
    "pycharm": {
     "name": "#%% md\n"
    }
   }
  },
  {
   "cell_type": "code",
   "execution_count": 30,
   "outputs": [
    {
     "name": "stdout",
     "output_type": "stream",
     "text": [
      "CPU times: user 907 µs, sys: 1.02 ms, total: 1.93 ms\n",
      "Wall time: 9.04 s\n"
     ]
    },
    {
     "data": {
      "text/plain": "[0.0,\n 0.7853981633974483,\n 1.5707963267948966,\n 2.356194490192345,\n 3.141592653589793,\n 3.9269908169872414,\n 4.71238898038469,\n 5.497787143782138,\n 6.283185307179586]"
     },
     "execution_count": 30,
     "metadata": {},
     "output_type": "execute_result"
    }
   ],
   "source": [
    "%%time\n",
    "\n",
    "[f(x) for x in range(9)]"
   ],
   "metadata": {
    "collapsed": false,
    "pycharm": {
     "name": "#%%\n"
    }
   }
  },
  {
   "cell_type": "markdown",
   "source": [
    "What if we need to ignore values of f(x) that return zero?"
   ],
   "metadata": {
    "collapsed": false,
    "pycharm": {
     "name": "#%% md\n"
    }
   }
  },
  {
   "cell_type": "markdown",
   "source": [
    "#### Slow & Inefficient\n",
    "This will calculate f(x) for each x - twice!"
   ],
   "metadata": {
    "collapsed": false,
    "pycharm": {
     "name": "#%% md\n"
    }
   }
  },
  {
   "cell_type": "code",
   "execution_count": 31,
   "outputs": [
    {
     "name": "stdout",
     "output_type": "stream",
     "text": [
      "CPU times: user 1.33 ms, sys: 1.16 ms, total: 2.49 ms\n",
      "Wall time: 17.1 s\n"
     ]
    },
    {
     "data": {
      "text/plain": "[0.7853981633974483,\n 1.5707963267948966,\n 2.356194490192345,\n 3.141592653589793,\n 3.9269908169872414,\n 4.71238898038469,\n 5.497787143782138,\n 6.283185307179586]"
     },
     "execution_count": 31,
     "metadata": {},
     "output_type": "execute_result"
    }
   ],
   "source": [
    "%%time\n",
    "\n",
    "[f(x) for x in range(9) if f(x)]"
   ],
   "metadata": {
    "collapsed": false,
    "pycharm": {
     "name": "#%%\n"
    }
   }
  },
  {
   "cell_type": "markdown",
   "source": [
    "#### Fast & Efficient 2x\n",
    "\n",
    "Here we can use the walrus operator to make our code more efficient without completely refactoring. This only computes f(x) once for each x - like our baseline."
   ],
   "metadata": {
    "collapsed": false,
    "pycharm": {
     "name": "#%% md\n"
    }
   }
  },
  {
   "cell_type": "code",
   "execution_count": 32,
   "outputs": [
    {
     "name": "stdout",
     "output_type": "stream",
     "text": [
      "CPU times: user 1 ms, sys: 976 µs, total: 1.98 ms\n",
      "Wall time: 9.04 s\n"
     ]
    },
    {
     "data": {
      "text/plain": "[0.7853981633974483,\n 1.5707963267948966,\n 2.356194490192345,\n 3.141592653589793,\n 3.9269908169872414,\n 4.71238898038469,\n 5.497787143782138,\n 6.283185307179586]"
     },
     "execution_count": 32,
     "metadata": {},
     "output_type": "execute_result"
    }
   ],
   "source": [
    "%%time\n",
    "\n",
    "[y for x in range(9) if (y := f(x))]"
   ],
   "metadata": {
    "collapsed": false,
    "pycharm": {
     "name": "#%%\n"
    }
   }
  },
  {
   "cell_type": "markdown",
   "source": [
    "## Step 3 - Another Example\n",
    "What if we need the first 4 powers of Tau?\n"
   ],
   "metadata": {
    "collapsed": false,
    "pycharm": {
     "name": "#%% md\n"
    }
   }
  },
  {
   "cell_type": "markdown",
   "source": [
    "#### Slow"
   ],
   "metadata": {
    "collapsed": false,
    "pycharm": {
     "name": "#%% md\n"
    }
   }
  },
  {
   "cell_type": "code",
   "execution_count": 33,
   "outputs": [
    {
     "name": "stdout",
     "output_type": "stream",
     "text": [
      "CPU times: user 1.01 ms, sys: 1.17 ms, total: 2.18 ms\n",
      "Wall time: 4.02 s\n"
     ]
    },
    {
     "data": {
      "text/plain": "[6.283185307179586, 39.47841760435743, 248.05021344239853, 1558.5454565440386]"
     },
     "execution_count": 33,
     "metadata": {},
     "output_type": "execute_result"
    }
   ],
   "source": [
    "%%time\n",
    "\n",
    "[f(8), f(8)**2, f(8)**3, f(8)**4]"
   ],
   "metadata": {
    "collapsed": false,
    "pycharm": {
     "name": "#%%\n"
    }
   }
  },
  {
   "cell_type": "markdown",
   "source": [
    "Obviously we could do this...\n",
    "```\n",
    "y = f(8)\n",
    "arr = [y, y**2, y**3, y**4]\n",
    "```\n",
    "But what if we can't easily hard code it like that? We have another option... the Walrus!"
   ],
   "metadata": {
    "collapsed": false,
    "pycharm": {
     "name": "#%% md\n"
    }
   }
  },
  {
   "cell_type": "markdown",
   "source": [
    "#### Fast"
   ],
   "metadata": {
    "collapsed": false,
    "pycharm": {
     "name": "#%% md\n"
    }
   }
  },
  {
   "cell_type": "code",
   "execution_count": 34,
   "outputs": [
    {
     "name": "stdout",
     "output_type": "stream",
     "text": [
      "CPU times: user 1.02 ms, sys: 1.13 ms, total: 2.15 ms\n",
      "Wall time: 1 s\n"
     ]
    },
    {
     "data": {
      "text/plain": "[6.283185307179586, 39.47841760435743, 248.05021344239853, 1558.5454565440386]"
     },
     "execution_count": 34,
     "metadata": {},
     "output_type": "execute_result"
    }
   ],
   "source": [
    "%%time\n",
    "\n",
    "[y := f(8), y**2, y**3, y**4]"
   ],
   "metadata": {
    "collapsed": false,
    "pycharm": {
     "name": "#%%\n"
    }
   }
  },
  {
   "cell_type": "markdown",
   "source": [
    "In the examples above we can easily see that the fast list comprehension is calling the function f(8) only once, where the slow one is calling it 4 times. The slow way is 4 times slower. In many cases this is not a big deal, but sometimes this loss of this performance can make or break an app. Obviously this example is a bit contrived. I'm sure there are other ways to capture f(8) and use it later, but that's not the point. The Walrus Operator is another tool in our toolbox that we can use to make our code read better. Even if you never intend to use it, you should be aware of it and be able to read code that employs it."
   ],
   "metadata": {
    "collapsed": false,
    "pycharm": {
     "name": "#%% md\n"
    }
   }
  },
  {
   "cell_type": "code",
   "execution_count": 34,
   "outputs": [],
   "source": [],
   "metadata": {
    "collapsed": false,
    "pycharm": {
     "name": "#%%\n"
    }
   }
  }
 ],
 "metadata": {
  "kernelspec": {
   "display_name": "Python 3",
   "language": "python",
   "name": "python3"
  },
  "language_info": {
   "codemirror_mode": {
    "name": "ipython",
    "version": 2
   },
   "file_extension": ".py",
   "mimetype": "text/x-python",
   "name": "python",
   "nbconvert_exporter": "python",
   "pygments_lexer": "ipython2",
   "version": "2.7.6"
  }
 },
 "nbformat": 4,
 "nbformat_minor": 0
}